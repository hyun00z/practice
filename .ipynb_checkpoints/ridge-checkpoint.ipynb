{
 "cells": [
  {
   "cell_type": "code",
   "execution_count": 12,
   "metadata": {},
   "outputs": [],
   "source": [
    "import matplotlib.pyplot as plt\n",
    "import numpy as np \n",
    "import pandas as pd\n",
    "import matplotlib\n",
    "from sklearn.datasets import load_boston\n",
    "from sklearn.model_selection import train_test_split\n",
    "from sklearn.linear_model import LinearRegression\n",
    "from sklearn.linear_model import Ridge\n",
    "from sklearn.metrics import mean_squared_error, r2_score"
   ]
  },
  {
   "cell_type": "code",
   "execution_count": 9,
   "metadata": {},
   "outputs": [],
   "source": [
    "data_path = \"C:\\\\Users\\\\pirl\\\\Desktop\\\\ML_GUI\\\\ML_GUI\\\\dataset\\\\boston\\\\BostonHousing.csv\"\n",
    "data = pd.read_csv(data_path)\n",
    "X = data.iloc[:,:-1].values\n",
    "Y = data.iloc[:,-1].values.reshape(-1)\n",
    "X_train, X_test, Y_train, Y_test = train_test_split(X, Y, test_size=0.2, random_state=5)"
   ]
  },
  {
   "cell_type": "code",
   "execution_count": 15,
   "metadata": {},
   "outputs": [
    {
     "name": "stdout",
     "output_type": "stream",
     "text": [
      "4.741006765727195\n",
      "0.7383387547691618\n"
     ]
    }
   ],
   "source": [
    "ridge_model = Ridge(alpha=0.01)\n",
    "ridge_model.fit(X_train, Y_train)\n",
    "\n",
    "y_train_predict = ridge_model.predict(X_train)\n",
    "rmse = np.sqrt(mean_squared_error(Y_train, y_train_predict))\n",
    "r2 = r2_score(Y_train, y_train_predict)\n",
    "\n",
    "print(rmse)\n",
    "print(r2)"
   ]
  },
  {
   "cell_type": "code",
   "execution_count": 17,
   "metadata": {},
   "outputs": [
    {
     "name": "stdout",
     "output_type": "stream",
     "text": [
      "4.569284120012582\n",
      "0.7333334306388588\n"
     ]
    }
   ],
   "source": [
    "#test\n",
    "y_test_predict = ridge_model.predict(X_test)\n",
    "rmse = np.sqrt(mean_squared_error(Y_test, y_test_predict))\n",
    "r2 = r2_score(Y_test, y_test_predict)\n",
    "\n",
    "print(rmse)\n",
    "print(r2)"
   ]
  },
  {
   "cell_type": "code",
   "execution_count": null,
   "metadata": {},
   "outputs": [],
   "source": []
  }
 ],
 "metadata": {
  "kernelspec": {
   "display_name": "Python 3",
   "language": "python",
   "name": "python3"
  },
  "language_info": {
   "codemirror_mode": {
    "name": "ipython",
    "version": 3
   },
   "file_extension": ".py",
   "mimetype": "text/x-python",
   "name": "python",
   "nbconvert_exporter": "python",
   "pygments_lexer": "ipython3",
   "version": "3.6.10"
  }
 },
 "nbformat": 4,
 "nbformat_minor": 4
}
