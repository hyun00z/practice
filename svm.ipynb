{
 "cells": [
  {
   "cell_type": "code",
   "execution_count": 1,
   "metadata": {},
   "outputs": [],
   "source": [
    "import matplotlib.pyplot as plt\n",
    "import numpy as np \n",
    "import pandas as pd\n",
    "import matplotlib\n",
    "from sklearn.datasets import load_iris\n",
    "from sklearn.svm import SVC,LinearSVC\n",
    "from sklearn.model_selection import train_test_split\n",
    "from sklearn.metrics import accuracy_score"
   ]
  },
  {
   "cell_type": "code",
   "execution_count": 2,
   "metadata": {},
   "outputs": [],
   "source": [
    "data_path = \"C:\\\\Users\\\\pirl\\\\Desktop\\\\ML_GUI\\\\ML_GUI\\\\dataset\\\\iris\\\\iris.csv\"\n",
    "data = pd.read_csv(data_path)"
   ]
  },
  {
   "cell_type": "code",
   "execution_count": 4,
   "metadata": {},
   "outputs": [
    {
     "name": "stdout",
     "output_type": "stream",
     "text": [
      "accuracy: 0.93\n"
     ]
    }
   ],
   "source": [
    "x_columns = \"sepal length (cm),sepal width (cm),petal length (cm),petal width (cm)\"\n",
    "x_columns = x_columns.split(',')\n",
    "X = data[x_columns]\n",
    "\n",
    "y_column = 'label'\n",
    "Y = data[y_column]\n",
    "\n",
    "X_train, X_test, Y_train, Y_test = train_test_split(X, Y, test_size=0.2, random_state=5)\n",
    "\n",
    "# we create an instance of SVM and fit out data. We do not scale our\n",
    "# data since we want to plot the support vectors\n",
    "C = 1.0  # SVM regularization parameter\n",
    "models = SVC(kernel='linear', C=C)\n",
    "models.fit(X_train, Y_train)\n",
    "y_test_predict = models.predict(X_test)\n",
    "\n",
    "y_test_predict = models.predict(X_test)\n",
    "print('accuracy: %.2f' % accuracy_score(Y_test, y_test_predict)) "
   ]
  },
  {
   "cell_type": "code",
   "execution_count": 5,
   "metadata": {},
   "outputs": [
    {
     "name": "stdout",
     "output_type": "stream",
     "text": [
      "accuracy: 0.97\n"
     ]
    }
   ],
   "source": [
    "#rbf\n",
    "C = 1.0  # SVM regularization parameter\n",
    "models = SVC(kernel='rbf', C=C)\n",
    "models.fit(X_train, Y_train)\n",
    "y_test_predict = models.predict(X_test)\n",
    "\n",
    "y_test_predict = models.predict(X_test)\n",
    "print('accuracy: %.2f' % accuracy_score(Y_test, y_test_predict)) "
   ]
  },
  {
   "cell_type": "code",
   "execution_count": 6,
   "metadata": {},
   "outputs": [
    {
     "name": "stdout",
     "output_type": "stream",
     "text": [
      "accuracy: 0.97\n"
     ]
    }
   ],
   "source": [
    "#poly\n",
    "C = 1.0  # SVM regularization parameter\n",
    "models = SVC(kernel='poly', C=C)\n",
    "models.fit(X_train, Y_train)\n",
    "y_test_predict = models.predict(X_test)\n",
    "\n",
    "y_test_predict = models.predict(X_test)\n",
    "print('accuracy: %.2f' % accuracy_score(Y_test, y_test_predict)) "
   ]
  },
  {
   "cell_type": "code",
   "execution_count": null,
   "metadata": {},
   "outputs": [],
   "source": []
  }
 ],
 "metadata": {
  "kernelspec": {
   "display_name": "Python 3",
   "language": "python",
   "name": "python3"
  },
  "language_info": {
   "codemirror_mode": {
    "name": "ipython",
    "version": 3
   },
   "file_extension": ".py",
   "mimetype": "text/x-python",
   "name": "python",
   "nbconvert_exporter": "python",
   "pygments_lexer": "ipython3",
   "version": "3.6.10"
  }
 },
 "nbformat": 4,
 "nbformat_minor": 4
}
